{
 "cells": [
  {
   "cell_type": "code",
   "execution_count": 3,
   "metadata": {},
   "outputs": [],
   "source": [
    "import numpy as np"
   ]
  },
  {
   "cell_type": "code",
   "execution_count": 8,
   "metadata": {},
   "outputs": [
    {
     "data": {
      "text/plain": [
       "(0.4112353962470352, -0.9113262657535398, -0.019232426296557675)"
      ]
     },
     "execution_count": 8,
     "metadata": {},
     "output_type": "execute_result"
    }
   ],
   "source": [
    "def random_three_vector():\n",
    "    \"\"\"\n",
    "    Generates a random 3D unit vector (direction) with a uniform spherical distribution\n",
    "    Algo from http://stackoverflow.com/questions/5408276/python-uniform-spherical-distribution\n",
    "    :return:\n",
    "    \"\"\"\n",
    "    phi = np.random.uniform(0,np.pi*2)\n",
    "    costheta = np.random.uniform(-1,1)\n",
    "\n",
    "    theta = np.arccos( costheta )\n",
    "    x = np.sin( theta) * np.cos( phi )\n",
    "    y = np.sin( theta) * np.sin( phi )\n",
    "    z = np.cos( theta )\n",
    "    return  x,y,z \n",
    "\n",
    "\n",
    "random_three_vector()"
   ]
  },
  {
   "cell_type": "code",
   "execution_count": null,
   "metadata": {},
   "outputs": [],
   "source": []
  }
 ],
 "metadata": {
  "kernelspec": {
   "display_name": "Python 3",
   "language": "python",
   "name": "python3"
  },
  "language_info": {
   "codemirror_mode": {
    "name": "ipython",
    "version": 3
   },
   "file_extension": ".py",
   "mimetype": "text/x-python",
   "name": "python",
   "nbconvert_exporter": "python",
   "pygments_lexer": "ipython3",
   "version": "3.6.4"
  }
 },
 "nbformat": 4,
 "nbformat_minor": 2
}
